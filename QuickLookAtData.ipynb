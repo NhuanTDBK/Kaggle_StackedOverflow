{
 "cells": [
  {
   "cell_type": "code",
   "execution_count": 25,
   "metadata": {
    "collapsed": false
   },
   "outputs": [],
   "source": [
    "import numpy as np\n",
    "import pandas as pd\n",
    "from sklearn.feature_extraction.text import TfidfVectorizer\n",
    "import seaborn as snb\n",
    "import matplotlib.pyplot as plt"
   ]
  },
  {
   "cell_type": "code",
   "execution_count": 3,
   "metadata": {
    "collapsed": true
   },
   "outputs": [],
   "source": [
    "train_bio = pd.read_csv(\"input_light/biology.csv\",encoding='utf-8')\n",
    "train_cooking = pd.read_csv(\"input_light/cooking.csv\",encoding='utf-8')\n",
    "train_crypto = pd.read_csv(\"input_light/crypto.csv\",encoding='utf-8')\n",
    "train_dyi = pd.read_csv(\"input_light/diy.csv\",encoding='utf-8')\n",
    "train_robotic = pd.read_csv(\"input_light/robotics.csv\",encoding='utf-8')\n",
    "train_travel = pd.read_csv(\"input_light/travel.csv\",encoding='utf-8')\n",
    "test_df = pd.read_csv(\"input_light/test.csv\",encoding='utf-8')"
   ]
  },
  {
   "cell_type": "code",
   "execution_count": 4,
   "metadata": {
    "collapsed": false
   },
   "outputs": [],
   "source": [
    "# df_list = []\n",
    "df_list = pd.concat([train_bio,train_cooking,train_crypto,train_dyi,train_robotic,train_travel])"
   ]
  },
  {
   "cell_type": "markdown",
   "metadata": {},
   "source": [
    "## Length of dataset"
   ]
  },
  {
   "cell_type": "code",
   "execution_count": 5,
   "metadata": {
    "collapsed": false
   },
   "outputs": [
    {
     "data": {
      "text/html": [
       "<div>\n",
       "<table border=\"1\" class=\"dataframe\">\n",
       "  <thead>\n",
       "    <tr style=\"text-align: right;\">\n",
       "      <th></th>\n",
       "      <th>id</th>\n",
       "      <th>title</th>\n",
       "      <th>content</th>\n",
       "      <th>tags</th>\n",
       "    </tr>\n",
       "  </thead>\n",
       "  <tbody>\n",
       "    <tr>\n",
       "      <th>0</th>\n",
       "      <td>1</td>\n",
       "      <td>criticality ribosome binding site relative sta...</td>\n",
       "      <td>prokaryotic translation critical efficient tra...</td>\n",
       "      <td>ribosome binding-sites translation synthetic-b...</td>\n",
       "    </tr>\n",
       "    <tr>\n",
       "      <th>1</th>\n",
       "      <td>2</td>\n",
       "      <td>rnase contamination rna based experiments prev...</td>\n",
       "      <td>anyone suggestions prevent rnase contamination...</td>\n",
       "      <td>rna biochemistry</td>\n",
       "    </tr>\n",
       "    <tr>\n",
       "      <th>2</th>\n",
       "      <td>3</td>\n",
       "      <td>lymphocyte sizes clustered two groups</td>\n",
       "      <td>tortora writes principles anatomy physiology l...</td>\n",
       "      <td>immunology cell-biology hematology</td>\n",
       "    </tr>\n",
       "    <tr>\n",
       "      <th>3</th>\n",
       "      <td>4</td>\n",
       "      <td>long antibiotic dosed lb maintain good selection</td>\n",
       "      <td>various people lab prepare liter lb add kanamy...</td>\n",
       "      <td>cell-culture</td>\n",
       "    </tr>\n",
       "    <tr>\n",
       "      <th>4</th>\n",
       "      <td>5</td>\n",
       "      <td>exon order always preserved splicing</td>\n",
       "      <td>cases splicing machinery constructs mrna exons...</td>\n",
       "      <td>splicing mrna spliceosome introns exons</td>\n",
       "    </tr>\n",
       "  </tbody>\n",
       "</table>\n",
       "</div>"
      ],
      "text/plain": [
       "   id                                              title  \\\n",
       "0   1  criticality ribosome binding site relative sta...   \n",
       "1   2  rnase contamination rna based experiments prev...   \n",
       "2   3              lymphocyte sizes clustered two groups   \n",
       "3   4   long antibiotic dosed lb maintain good selection   \n",
       "4   5               exon order always preserved splicing   \n",
       "\n",
       "                                             content  \\\n",
       "0  prokaryotic translation critical efficient tra...   \n",
       "1  anyone suggestions prevent rnase contamination...   \n",
       "2  tortora writes principles anatomy physiology l...   \n",
       "3  various people lab prepare liter lb add kanamy...   \n",
       "4  cases splicing machinery constructs mrna exons...   \n",
       "\n",
       "                                                tags  \n",
       "0  ribosome binding-sites translation synthetic-b...  \n",
       "1                                   rna biochemistry  \n",
       "2                 immunology cell-biology hematology  \n",
       "3                                       cell-culture  \n",
       "4            splicing mrna spliceosome introns exons  "
      ]
     },
     "execution_count": 5,
     "metadata": {},
     "output_type": "execute_result"
    }
   ],
   "source": [
    "df_list.head()"
   ]
  },
  {
   "cell_type": "code",
   "execution_count": 6,
   "metadata": {
    "collapsed": true
   },
   "outputs": [],
   "source": [
    "df_list['doc'] = df_list['title'] + ' ' + df_list['content']"
   ]
  },
  {
   "cell_type": "code",
   "execution_count": 7,
   "metadata": {
    "collapsed": false
   },
   "outputs": [
    {
     "name": "stdout",
     "output_type": "stream",
     "text": [
      "Total length = 87000\n"
     ]
    }
   ],
   "source": [
    "print \"Total length = %s\"%df_list.shape[0]"
   ]
  },
  {
   "cell_type": "code",
   "execution_count": 8,
   "metadata": {
    "collapsed": false
   },
   "outputs": [
    {
     "name": "stdout",
     "output_type": "stream",
     "text": [
      "Length of null data = 2\n"
     ]
    }
   ],
   "source": [
    "print \"Length of null data = %s\"%df_list[df_list['doc'].isnull()].shape[0]"
   ]
  },
  {
   "cell_type": "code",
   "execution_count": 9,
   "metadata": {
    "collapsed": false
   },
   "outputs": [
    {
     "name": "stdout",
     "output_type": "stream",
     "text": [
      "Length of null data = 0\n"
     ]
    }
   ],
   "source": [
    "print \"Length of null data = %s\"%df_list[df_list['tags'].isnull()].shape[0]"
   ]
  },
  {
   "cell_type": "markdown",
   "metadata": {},
   "source": [
    "## Number of unique tags in training datasets"
   ]
  },
  {
   "cell_type": "code",
   "execution_count": 20,
   "metadata": {
    "collapsed": false
   },
   "outputs": [
    {
     "data": {
      "text/plain": [
       "0    ribosome binding-sites translation synthetic-b...\n",
       "1                                     rna biochemistry\n",
       "2                   immunology cell-biology hematology\n",
       "3                                         cell-culture\n",
       "4              splicing mrna spliceosome introns exons\n",
       "5                   dna biochemistry molecular-biology\n",
       "6                                neuroscience synapses\n",
       "7                                             plasmids\n",
       "8    molecular-genetics gene-expression experimenta...\n",
       "9                  evolution mitochondria chloroplasts\n",
       "Name: tags, dtype: object"
      ]
     },
     "execution_count": 20,
     "metadata": {},
     "output_type": "execute_result"
    }
   ],
   "source": [
    "df_list['tags'][0:10]"
   ]
  },
  {
   "cell_type": "code",
   "execution_count": 11,
   "metadata": {
    "collapsed": false
   },
   "outputs": [],
   "source": [
    "Y = [item.replace(\"-\",\"_\").split(\" \") for item in df_list['tags']]\n",
    "all_tags = list(set(sum(Y,[])))"
   ]
  },
  {
   "cell_type": "code",
   "execution_count": 21,
   "metadata": {
    "collapsed": false
   },
   "outputs": [],
   "source": [
    "length_of_tags = pd.DataFrame(zip(*np.unique([len(tag) for tag in Y],return_counts=True)),columns=['length','count'])"
   ]
  },
  {
   "cell_type": "code",
   "execution_count": 31,
   "metadata": {
    "collapsed": false
   },
   "outputs": [
    {
     "data": {
      "image/png": "[encoded data removed]",
      "text/plain": [
       "<matplotlib.figure.Figure at 0x7f9efb2b1250>"
      ]
     },
     "metadata": {},
     "output_type": "display_data"
    }
   ],
   "source": [
    "%matplotlib inline\n",
    "# ax = plt.subplot()\n",
    "# ax.plot(length_of_tags['length'],label='')\n",
    "ax = length_of_tags.set_index(\"length\").plot(kind='bar',rot=0,title=\"Length of tags\")"
   ]
  },
  {
   "cell_type": "code",
   "execution_count": 32,
   "metadata": {
    "collapsed": false
   },
   "outputs": [],
   "source": [
    "tags = set(all_tags)"
   ]
  },
  {
   "cell_type": "code",
   "execution_count": 33,
   "metadata": {
    "collapsed": false
   },
   "outputs": [
    {
     "name": "stdout",
     "output_type": "stream",
     "text": [
      "4268\n"
     ]
    }
   ],
   "source": [
    "print len(tags)"
   ]
  },
  {
   "cell_type": "code",
   "execution_count": 42,
   "metadata": {
    "collapsed": false
   },
   "outputs": [],
   "source": [
    "word_title = [item.replace(\"-\",\"_\").split(\" \") for item in df_list['title']]\n",
    "title_dict = list(set(sum(word_title,[])))"
   ]
  },
  {
   "cell_type": "code",
   "execution_count": 44,
   "metadata": {
    "collapsed": true
   },
   "outputs": [],
   "source": [
    "title_dict = set(title_dict)"
   ]
  },
  {
   "cell_type": "code",
   "execution_count": 45,
   "metadata": {
    "collapsed": true
   },
   "outputs": [],
   "source": [
    "number_of_tags_in_title = tags.intersection(title_dict)"
   ]
  },
  {
   "cell_type": "code",
   "execution_count": 53,
   "metadata": {
    "collapsed": false
   },
   "outputs": [
    {
     "name": "stdout",
     "output_type": "stream",
     "text": [
      "Ratio of tags in title = 61 %\n"
     ]
    }
   ],
   "source": [
    "print \"Ratio of tags in title = %s %%\"%(len(number_of_tags_in_title)*100/len(all_tags))"
   ]
  },
  {
   "cell_type": "code",
   "execution_count": null,
   "metadata": {
    "collapsed": true
   },
   "outputs": [],
   "source": []
  },
  {
   "cell_type": "code",
   "execution_count": null,
   "metadata": {
    "collapsed": true
   },
   "outputs": [],
   "source": []
  }
 ],
 "metadata": {
  "kernelspec": {
   "display_name": "Python 2",
   "language": "python",
   "name": "python2"
  },
  "language_info": {
   "codemirror_mode": {
    "name": "ipython",
    "version": 2
   },
   "file_extension": ".py",
   "mimetype": "text/x-python",
   "name": "python",
   "nbconvert_exporter": "python",
   "pygments_lexer": "ipython2",
   "version": "2.7.12"
  }
 },
 "nbformat": 4,
 "nbformat_minor": 1
}
